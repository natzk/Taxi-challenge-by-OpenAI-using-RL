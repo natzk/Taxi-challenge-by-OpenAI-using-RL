{
  "nbformat": 4,
  "nbformat_minor": 0,
  "metadata": {
    "colab": {
      "provenance": []
    },
    "kernelspec": {
      "name": "python3",
      "display_name": "Python 3"
    },
    "language_info": {
      "name": "python"
    }
  },
  "cells": [
    {
      "cell_type": "code",
      "execution_count": 95,
      "metadata": {
        "id": "yzp6ZqBOJP60"
      },
      "outputs": [],
      "source": [
        "import numpy as np"
      ]
    },
    {
      "cell_type": "code",
      "source": [
        "#defining the state\n",
        "environment_rows = 12\n",
        "environment_columns = 12\n",
        "\n",
        "#defining and initializing the qtable to all zeros\n",
        "#6 represents the number of actions we have\n",
        "# q_values = np.zeros((environment_rows, environment_columns, 4))\n",
        "\n",
        "#define actions\n",
        "actions = ['up', 'right', 'down', 'left']"
      ],
      "metadata": {
        "id": "P7NKnTBYJTmS"
      },
      "execution_count": 96,
      "outputs": []
    },
    {
      "cell_type": "code",
      "source": [
        "def init_reward_mat(environment_rows, environment_columns, row_pass_reward, column_pass_reward):\n",
        "  #defining the rewards \n",
        "  rewards = np.full((environment_rows, environment_columns), -1)\n",
        "\n",
        "  #drop off locations\n",
        "  # rewards[0,0] = -1 \n",
        "  rewards[row_pass_reward,column_pass_reward] = 10 #passenger starts here\n",
        "  # rewards[environment_rows-2,0] = -1 #drop passenger here\n",
        "  # rewards[environment_rows-2,environment_columns-2] = -1 #wrong drop off location\n",
        "\n",
        "  #defining the outer walls\n",
        "  rewards[:,0] = -100\n",
        "  rewards[0,:] = -100\n",
        "  rewards[11,:] = -100\n",
        "  rewards[:,11] = -100\n",
        "\n",
        "  #defining the inner walls\n",
        "  rewards[1:5,3] = -100\n",
        "  rewards[1:5,8] = -100\n",
        "  rewards[7:11,5] = -100\n",
        "  rewards[7:11,6] = -100\n",
        "\n",
        "  q_values = np.zeros((environment_rows, environment_columns, 4))\n",
        "\n",
        "  return rewards, q_values"
      ],
      "metadata": {
        "id": "ZgjQjhL9RywB"
      },
      "execution_count": 97,
      "outputs": []
    },
    {
      "cell_type": "code",
      "source": [
        "rewards, q_values = init_reward_mat(environment_rows, environment_columns, 1, 10)\n",
        "# rewards_drop, q_values_2 = init_reward_mat(environment_rows, environment_columns, 10, 1)\n",
        "#print the rewards matrix\n",
        "for row in rewards:\n",
        "  print(row)"
      ],
      "metadata": {
        "id": "tWDtuEbBkiXK",
        "colab": {
          "base_uri": "https://localhost:8080/"
        },
        "outputId": "ce4cc01e-8489-4e97-ed66-75ba05259108"
      },
      "execution_count": 98,
      "outputs": [
        {
          "output_type": "stream",
          "name": "stdout",
          "text": [
            "[-100 -100 -100 -100 -100 -100 -100 -100 -100 -100 -100 -100]\n",
            "[-100   -1   -1 -100   -1   -1   -1   -1 -100   -1   10 -100]\n",
            "[-100   -1   -1 -100   -1   -1   -1   -1 -100   -1   -1 -100]\n",
            "[-100   -1   -1 -100   -1   -1   -1   -1 -100   -1   -1 -100]\n",
            "[-100   -1   -1 -100   -1   -1   -1   -1 -100   -1   -1 -100]\n",
            "[-100   -1   -1   -1   -1   -1   -1   -1   -1   -1   -1 -100]\n",
            "[-100   -1   -1   -1   -1   -1   -1   -1   -1   -1   -1 -100]\n",
            "[-100   -1   -1   -1   -1 -100 -100   -1   -1   -1   -1 -100]\n",
            "[-100   -1   -1   -1   -1 -100 -100   -1   -1   -1   -1 -100]\n",
            "[-100   -1   -1   -1   -1 -100 -100   -1   -1   -1   -1 -100]\n",
            "[-100   -1   -1   -1   -1 -100 -100   -1   -1   -1   -1 -100]\n",
            "[-100 -100 -100 -100 -100 -100 -100 -100 -100 -100 -100 -100]\n"
          ]
        }
      ]
    },
    {
      "cell_type": "code",
      "source": [],
      "metadata": {
        "id": "t_1OcmpxGsUk"
      },
      "execution_count": 98,
      "outputs": []
    },
    {
      "cell_type": "code",
      "source": [
        "#check if the taxi and the pass are at the same location\n",
        "def terminal_state(current_row_index_taxi, current_column_index_taxi):\n",
        "  if rewards[current_row_index_taxi][current_column_index_taxi] == -1:\n",
        "    return False\n",
        "  return True\n",
        "\n",
        "#define a random starting location for the taxi\n",
        "def get_starting_location_taxi():\n",
        "  current_row_index_taxi = np.random.randint(environment_rows-1)\n",
        "  current_column_index_taxi = np.random.randint(environment_columns-1)\n",
        "  # print(current_row_index_taxi)\n",
        "  # print(current_column_index_taxi)\n",
        "\n",
        "  while terminal_state(current_row_index_taxi, current_column_index_taxi):\n",
        "    current_row_index_taxi = np.random.randint(environment_rows-1)\n",
        "    current_column_index_taxi = np.random.randint(environment_rows-1)\n",
        "  return current_row_index_taxi, current_column_index_taxi\n",
        "\n",
        "def get_next_action(current_row_index_taxi, current_column_index_taxi, epsilon,q_values):\n",
        "  if np.random.random() < epsilon: # this is for the exploitation part\n",
        "    return np.argmax(q_values[current_row_index_taxi, current_column_index_taxi])\n",
        "  else: #choose a random action -> this is for the exploration part\n",
        "    return np.random.randint(4)\n",
        "\n",
        "def get_next_location(current_row_index_taxi, current_column_index_taxi, action_index):\n",
        "  new_row_index = current_row_index_taxi\n",
        "  new_column_index = current_column_index_taxi\n",
        "  if ((actions[action_index] == 'up') & (current_row_index_taxi > 0)):\n",
        "    new_row_index = new_row_index - 1\n",
        "  elif actions[action_index] == 'right' and current_column_index_taxi < environment_columns - 1:\n",
        "    new_column_index = new_column_index + 1\n",
        "  elif actions[action_index] == 'down' and current_row_index_taxi < environment_rows - 1:\n",
        "    new_row_index = new_row_index + 1\n",
        "  elif actions[action_index] == 'left' and current_row_index_taxi > 0:\n",
        "    new_column_index = new_column_index - 1\n",
        "  #maybe we need to add here the option of drop off and pickup\n",
        "  return new_row_index, new_column_index\n",
        "\n",
        "#getting the shortest path between the taxi and pass\n",
        "def get_shortest_path(start_row_index_taxi, start_column_index_taxi):\n",
        "  if terminal_state(start_row_index_taxi, start_column_index_taxi):\n",
        "    return []\n",
        "  else: #if they are not at the same location\n",
        "    current_row_index, current_column_index = start_row_index_taxi, start_column_index_taxi\n",
        "    shortest_path = []\n",
        "    shortest_path.append([current_row_index, current_column_index])\n",
        "    while not terminal_state(current_row_index, current_column_index):\n",
        "      action_index = get_next_action(current_row_index, current_column_index, 1, q_values)\n",
        "      current_row_index, current_column_index = get_next_location(current_row_index, current_column_index, action_index)\n",
        "      # print(current_row_index, current_column_index)\n",
        "      shortest_path.append([current_row_index, current_column_index])\n",
        "    return shortest_path"
      ],
      "metadata": {
        "id": "Fd5-haDRUw0V"
      },
      "execution_count": 99,
      "outputs": []
    },
    {
      "cell_type": "code",
      "source": [
        "#defining parameters for the runs \n",
        "epsilon = 0.9\n",
        "discount_factor = 0.9\n",
        "learning_rate = 0.9"
      ],
      "metadata": {
        "id": "sQ8-XJTuHh3S"
      },
      "execution_count": 100,
      "outputs": []
    },
    {
      "cell_type": "code",
      "source": [
        "def update_values():\n",
        "  for episode in range(2000):\n",
        "    row_index,column_index = get_starting_location_taxi()\n",
        "    while not terminal_state(row_index, column_index):\n",
        "      action_index = get_next_action(row_index, column_index, epsilon,q_values)\n",
        "\n",
        "      old_row_index, old_column_index = row_index, column_index\n",
        "      row_index, column_index = get_next_location(row_index, column_index, action_index)\n",
        "\n",
        "      reward = rewards[row_index, column_index]\n",
        "      old_q_value = q_values[old_row_index, old_column_index, action_index]\n",
        "      temporal_difference = reward + (discount_factor * np.max(q_values[row_index, column_index])) - old_q_value\n",
        "\n",
        "      new_q_value = old_q_value + (learning_rate * temporal_difference)\n",
        "      q_values[old_row_index, old_column_index, action_index] = new_q_value\n",
        "\n",
        "  print(\"Complete\")"
      ],
      "metadata": {
        "id": "P0myfJwWaHNe"
      },
      "execution_count": 101,
      "outputs": []
    },
    {
      "cell_type": "code",
      "source": [
        "#calling the function for the first run (taxi to passenger)\n",
        "update_values()"
      ],
      "metadata": {
        "colab": {
          "base_uri": "https://localhost:8080/"
        },
        "id": "szS99UiMl6kf",
        "outputId": "a11e4cfe-efea-4349-89c4-aaafe8d45ada"
      },
      "execution_count": 102,
      "outputs": [
        {
          "output_type": "stream",
          "name": "stdout",
          "text": [
            "Complete\n"
          ]
        }
      ]
    },
    {
      "cell_type": "code",
      "source": [
        "shortest = get_shortest_path(1,1)\n",
        "print(shortest)\n",
        "\n",
        "#after getting the path from the taxi to the passnger, we'll define new rewards and q_values to find the shortest\n",
        "#path from the taxi with the passnger to paasengers drop-off location. Meaning we're initializing everything again. \n",
        "rewards, q_values = init_reward_mat(environment_rows, environment_columns, 10, 1)\n",
        "#calling again the function update_values for the 2nd run, taxi with passenger to drop-off location of passenger \n",
        "update_values()"
      ],
      "metadata": {
        "colab": {
          "base_uri": "https://localhost:8080/"
        },
        "id": "X0ZqvX8iG-qa",
        "outputId": "3760fc12-efab-409b-9c68-17d358de8a23"
      },
      "execution_count": 103,
      "outputs": [
        {
          "output_type": "stream",
          "name": "stdout",
          "text": [
            "[[1, 1], [2, 1], [3, 1], [4, 1], [4, 2], [5, 2], [6, 2], [6, 3], [6, 4], [6, 5], [5, 5], [5, 6], [5, 7], [5, 8], [5, 9], [4, 9], [3, 9], [2, 9], [2, 10], [1, 10]]\n",
            "Complete\n"
          ]
        }
      ]
    },
    {
      "cell_type": "code",
      "source": [
        "shortest_2 = get_shortest_path(1,10)\n",
        "shortest_print = []\n",
        "for elem in shortest[:-1]:\n",
        "  shortest_print.append(elem)\n",
        "for elem in shortest_2:\n",
        "  shortest_print.append(elem)\n",
        "\n",
        "print(shortest_print)"
      ],
      "metadata": {
        "colab": {
          "base_uri": "https://localhost:8080/"
        },
        "id": "aOsTV9K6VenK",
        "outputId": "562da3b8-178c-4acd-f902-3d72c9eb31fd"
      },
      "execution_count": 104,
      "outputs": [
        {
          "output_type": "stream",
          "name": "stdout",
          "text": [
            "[[1, 1], [2, 1], [3, 1], [4, 1], [4, 2], [5, 2], [6, 2], [6, 3], [6, 4], [6, 5], [5, 5], [5, 6], [5, 7], [5, 8], [5, 9], [4, 9], [3, 9], [2, 9], [2, 10], [1, 10], [2, 10], [3, 10], [3, 9], [4, 9], [5, 9], [5, 8], [5, 7], [5, 6], [5, 5], [6, 5], [6, 4], [6, 3], [7, 3], [7, 2], [7, 1], [8, 1], [9, 1], [10, 1]]\n"
          ]
        }
      ]
    },
    {
      "cell_type": "code",
      "source": [],
      "metadata": {
        "id": "Y7QySUDTO5Qt"
      },
      "execution_count": 104,
      "outputs": []
    }
  ]
}